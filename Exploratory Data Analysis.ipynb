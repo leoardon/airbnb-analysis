{
 "cells": [
  {
   "cell_type": "markdown",
   "metadata": {},
   "source": [
    "<h1><center>Exploratory Data Analysis</center></h1>"
   ]
  },
  {
   "cell_type": "markdown",
   "metadata": {
    "toc": true
   },
   "source": [
    "<h1>Table of Contents<span class=\"tocSkip\"></span></h1>\n",
    "<div class=\"toc\"><ul class=\"toc-item\"><li><span><a href=\"#Listings\" data-toc-modified-id=\"Listings-1\"><span class=\"toc-item-num\">1&nbsp;&nbsp;</span>Listings</a></span><ul class=\"toc-item\"><li><span><a href=\"#Removing-irrelevant-columns\" data-toc-modified-id=\"Removing-irrelevant-columns-1.1\"><span class=\"toc-item-num\">1.1&nbsp;&nbsp;</span>Removing irrelevant columns</a></span></li><li><span><a href=\"#Data-cleansing\" data-toc-modified-id=\"Data-cleansing-1.2\"><span class=\"toc-item-num\">1.2&nbsp;&nbsp;</span>Data cleansing</a></span><ul class=\"toc-item\"><li><span><a href=\"#Data-Types\" data-toc-modified-id=\"Data-Types-1.2.1\"><span class=\"toc-item-num\">1.2.1&nbsp;&nbsp;</span>Data Types</a></span></li><li><span><a href=\"#Missing-values\" data-toc-modified-id=\"Missing-values-1.2.2\"><span class=\"toc-item-num\">1.2.2&nbsp;&nbsp;</span>Missing values</a></span></li><li><span><a href=\"#Price-outliers\" data-toc-modified-id=\"Price-outliers-1.2.3\"><span class=\"toc-item-num\">1.2.3&nbsp;&nbsp;</span>Price outliers</a></span></li><li><span><a href=\"#Maximum-nights-next-12M\" data-toc-modified-id=\"Maximum-nights-next-12M-1.2.4\"><span class=\"toc-item-num\">1.2.4&nbsp;&nbsp;</span>Maximum nights next 12M</a></span></li></ul></li><li><span><a href=\"#New-features\" data-toc-modified-id=\"New-features-1.3\"><span class=\"toc-item-num\">1.3&nbsp;&nbsp;</span>New features</a></span><ul class=\"toc-item\"><li><span><a href=\"#Host-Tenure\" data-toc-modified-id=\"Host-Tenure-1.3.1\"><span class=\"toc-item-num\">1.3.1&nbsp;&nbsp;</span>Host Tenure</a></span></li><li><span><a href=\"#Listing-tenure\" data-toc-modified-id=\"Listing-tenure-1.3.2\"><span class=\"toc-item-num\">1.3.2&nbsp;&nbsp;</span>Listing tenure</a></span></li><li><span><a href=\"#Listing-recency\" data-toc-modified-id=\"Listing-recency-1.3.3\"><span class=\"toc-item-num\">1.3.3&nbsp;&nbsp;</span>Listing recency</a></span></li><li><span><a href=\"#Full-property\" data-toc-modified-id=\"Full-property-1.3.4\"><span class=\"toc-item-num\">1.3.4&nbsp;&nbsp;</span>Full property</a></span></li><li><span><a href=\"#Fraudster\" data-toc-modified-id=\"Fraudster-1.3.5\"><span class=\"toc-item-num\">1.3.5&nbsp;&nbsp;</span>Fraudster</a></span></li><li><span><a href=\"#Occupancy\" data-toc-modified-id=\"Occupancy-1.3.6\"><span class=\"toc-item-num\">1.3.6&nbsp;&nbsp;</span>Occupancy</a></span></li><li><span><a href=\"#Income\" data-toc-modified-id=\"Income-1.3.7\"><span class=\"toc-item-num\">1.3.7&nbsp;&nbsp;</span>Income</a></span></li></ul></li></ul></li><li><span><a href=\"#Neighbourhood\" data-toc-modified-id=\"Neighbourhood-2\"><span class=\"toc-item-num\">2&nbsp;&nbsp;</span>Neighbourhood</a></span></li><li><span><a href=\"#Calendar\" data-toc-modified-id=\"Calendar-3\"><span class=\"toc-item-num\">3&nbsp;&nbsp;</span>Calendar</a></span><ul class=\"toc-item\"><li><span><a href=\"#Price-Adjusted\" data-toc-modified-id=\"Price-Adjusted-3.1\"><span class=\"toc-item-num\">3.1&nbsp;&nbsp;</span>Price Adjusted</a></span></li></ul></li><li><span><a href=\"#Reviews\" data-toc-modified-id=\"Reviews-4\"><span class=\"toc-item-num\">4&nbsp;&nbsp;</span>Reviews</a></span></li></ul></div>"
   ]
  },
  {
   "cell_type": "code",
   "execution_count": 2,
   "metadata": {
    "ExecuteTime": {
     "end_time": "2020-09-21T07:26:41.732638Z",
     "start_time": "2020-09-21T07:26:39.844979Z"
    }
   },
   "outputs": [],
   "source": [
    "import os\n",
    "import numpy as np\n",
    "import pandas as pd\n",
    "import seaborn as sns\n",
    "import matplotlib.pyplot as plt\n",
    "import datetime as dt\n",
    "import nltk"
   ]
  },
  {
   "cell_type": "markdown",
   "metadata": {},
   "source": [
    "## Listings"
   ]
  },
  {
   "cell_type": "code",
   "execution_count": 3,
   "metadata": {
    "ExecuteTime": {
     "end_time": "2020-09-21T07:26:44.523854Z",
     "start_time": "2020-09-21T07:26:41.733589Z"
    }
   },
   "outputs": [
    {
     "name": "stderr",
     "output_type": "stream",
     "text": [
      "/Users/N547113/opt/anaconda3/lib/python3.8/site-packages/IPython/core/interactiveshell.py:3071: DtypeWarning: Columns (61,62,94) have mixed types. Specify dtype option on import or set low_memory=False.\n",
      "  has_raised = await self.run_ast_nodes(code_ast.body, cell_name,\n"
     ]
    }
   ],
   "source": [
    "full_listings = pd.read_csv(\"data/listings.csv\")"
   ]
  },
  {
   "cell_type": "code",
   "execution_count": 4,
   "metadata": {
    "ExecuteTime": {
     "end_time": "2020-09-21T07:26:47.310190Z",
     "start_time": "2020-09-21T07:26:47.305492Z"
    }
   },
   "outputs": [
    {
     "data": {
      "text/plain": [
       "array(['id', 'listing_url', 'scrape_id', 'last_scraped', 'name',\n",
       "       'summary', 'space', 'description', 'experiences_offered',\n",
       "       'neighborhood_overview', 'notes', 'transit', 'access',\n",
       "       'interaction', 'house_rules', 'thumbnail_url', 'medium_url',\n",
       "       'picture_url', 'xl_picture_url', 'host_id', 'host_url',\n",
       "       'host_name', 'host_since', 'host_location', 'host_about',\n",
       "       'host_response_time', 'host_response_rate', 'host_acceptance_rate',\n",
       "       'host_is_superhost', 'host_thumbnail_url', 'host_picture_url',\n",
       "       'host_neighbourhood', 'host_listings_count',\n",
       "       'host_total_listings_count', 'host_verifications',\n",
       "       'host_has_profile_pic', 'host_identity_verified', 'street',\n",
       "       'neighbourhood', 'neighbourhood_cleansed',\n",
       "       'neighbourhood_group_cleansed', 'city', 'state', 'zipcode',\n",
       "       'market', 'smart_location', 'country_code', 'country', 'latitude',\n",
       "       'longitude', 'is_location_exact', 'property_type', 'room_type',\n",
       "       'accommodates', 'bathrooms', 'bedrooms', 'beds', 'bed_type',\n",
       "       'amenities', 'square_feet', 'price', 'weekly_price',\n",
       "       'monthly_price', 'security_deposit', 'cleaning_fee',\n",
       "       'guests_included', 'extra_people', 'minimum_nights',\n",
       "       'maximum_nights', 'minimum_minimum_nights',\n",
       "       'maximum_minimum_nights', 'minimum_maximum_nights',\n",
       "       'maximum_maximum_nights', 'minimum_nights_avg_ntm',\n",
       "       'maximum_nights_avg_ntm', 'calendar_updated', 'has_availability',\n",
       "       'availability_30', 'availability_60', 'availability_90',\n",
       "       'availability_365', 'calendar_last_scraped', 'number_of_reviews',\n",
       "       'number_of_reviews_ltm', 'first_review', 'last_review',\n",
       "       'review_scores_rating', 'review_scores_accuracy',\n",
       "       'review_scores_cleanliness', 'review_scores_checkin',\n",
       "       'review_scores_communication', 'review_scores_location',\n",
       "       'review_scores_value', 'requires_license', 'license',\n",
       "       'jurisdiction_names', 'instant_bookable',\n",
       "       'is_business_travel_ready', 'cancellation_policy',\n",
       "       'require_guest_profile_picture',\n",
       "       'require_guest_phone_verification',\n",
       "       'calculated_host_listings_count',\n",
       "       'calculated_host_listings_count_entire_homes',\n",
       "       'calculated_host_listings_count_private_rooms',\n",
       "       'calculated_host_listings_count_shared_rooms', 'reviews_per_month'],\n",
       "      dtype=object)"
      ]
     },
     "execution_count": 4,
     "metadata": {},
     "output_type": "execute_result"
    }
   ],
   "source": [
    "full_listings.columns.values"
   ]
  },
  {
   "cell_type": "markdown",
   "metadata": {},
   "source": [
    "### Removing irrelevant columns"
   ]
  },
  {
   "cell_type": "code",
   "execution_count": 5,
   "metadata": {
    "ExecuteTime": {
     "end_time": "2020-09-21T07:30:38.289047Z",
     "start_time": "2020-09-21T07:30:37.457053Z"
    }
   },
   "outputs": [],
   "source": [
    "cols_to_drop = [\n",
    "    \"listing_url\",\n",
    "    \"scrape_id\",\n",
    "    \"last_scraped\",\n",
    "    \"space\",\n",
    "    \"experiences_offered\",\n",
    "    \"neighborhood_overview\",\n",
    "    \"transit\",\n",
    "    \"notes\",\n",
    "    \"access\",\n",
    "    \"interaction\",\n",
    "    \"house_rules\",\n",
    "    \"thumbnail_url\",\n",
    "    \"medium_url\",\n",
    "    \"picture_url\",\n",
    "    \"xl_picture_url\",\n",
    "    \"host_url\",\n",
    "    \"host_name\",\n",
    "    \"host_about\",\n",
    "    \"host_thumbnail_url\",\n",
    "    \"host_picture_url\",\n",
    "    \"host_total_listings_count\",\n",
    "    \"host_verifications\",\n",
    "    \"street\",\n",
    "    \"neighbourhood\",\n",
    "    \"city\",\n",
    "    \"state\",\n",
    "    \"market\",\n",
    "    \"smart_location\",\n",
    "    \"country_code\",\n",
    "    \"country\",\n",
    "    \"bathrooms\",\n",
    "    \"bed_type\",\n",
    "    \"amenities\",\n",
    "    \"security_deposit\",\n",
    "    \"guests_included\",\n",
    "    \"extra_people\",\n",
    "    \"minimum_minimum_nights\",\n",
    "    \"maximum_minimum_nights\",\n",
    "    \"minimum_maximum_nights\",\n",
    "    \"maximum_maximum_nights\",\n",
    "    \"minimum_nights_avg_ntm\",\n",
    "    \"maximum_nights_avg_ntm\",\n",
    "    \"has_availability\",\n",
    "    \"calendar_last_scraped\",\n",
    "    \"requires_license\",\n",
    "    \"license\",\n",
    "    \"jurisdiction_names\",\n",
    "    \"instant_bookable\",\n",
    "    \"is_business_travel_ready\",\n",
    "    \"cancellation_policy\",\n",
    "    \"require_guest_profile_picture\",\n",
    "    \"require_guest_phone_verification\",\n",
    "    \"calculated_host_listings_count\",\n",
    "    \"calculated_host_listings_count_entire_homes\",\n",
    "    \"calculated_host_listings_count_private_rooms\",\n",
    "    \"calculated_host_listings_count_shared_rooms\",\n",
    "#     \"host_location\",\n",
    "    \"host_neighbourhood\",\n",
    "    \"zipcode\",\n",
    "    \"beds\",\n",
    "    \"square_feet\"\n",
    "]\n",
    "full_listings.drop(columns=cols_to_drop, inplace=True)"
   ]
  },
  {
   "cell_type": "code",
   "execution_count": 6,
   "metadata": {
    "ExecuteTime": {
     "end_time": "2020-09-21T07:30:52.362122Z",
     "start_time": "2020-09-21T07:30:52.352644Z"
    }
   },
   "outputs": [
    {
     "data": {
      "text/plain": [
       "60"
      ]
     },
     "execution_count": 6,
     "metadata": {},
     "output_type": "execute_result"
    }
   ],
   "source": [
    "len(cols_to_drop)"
   ]
  },
  {
   "cell_type": "markdown",
   "metadata": {},
   "source": [
    "### Data cleansing"
   ]
  },
  {
   "cell_type": "markdown",
   "metadata": {},
   "source": [
    "#### Data Types"
   ]
  },
  {
   "cell_type": "code",
   "execution_count": 7,
   "metadata": {
    "ExecuteTime": {
     "end_time": "2020-09-21T07:31:30.830376Z",
     "start_time": "2020-09-21T07:31:30.337589Z"
    }
   },
   "outputs": [],
   "source": [
    "# strings\n",
    "\n",
    "full_listings[\"name\"].fillna(\"\", inplace=True)\n",
    "full_listings[\"summary\"].fillna(\"\", inplace=True)\n",
    "full_listings[\"description\"].fillna(\"\", inplace=True)\n",
    "\n",
    "\n",
    "# datetime\n",
    "full_listings[\"host_since\"] = pd.to_datetime(full_listings[\"host_since\"])\n",
    "full_listings[\"first_review\"] = pd.to_datetime(full_listings[\"first_review\"])\n",
    "full_listings[\"last_review\"] = pd.to_datetime(full_listings[\"last_review\"])\n",
    "\n",
    "#categorical\n",
    "full_listings[\"host_response_time\"] = full_listings[\"host_response_time\"].astype(\"category\"). \\\n",
    "                                cat.set_categories([\n",
    "                                    \"within an hour\",\n",
    "                                    \"within a few hours\",\n",
    "                                    \"within a day\",\n",
    "                                    \"a few days or more\"\n",
    "                                ], ordered=True)\n",
    "\n",
    "# float\n",
    "full_listings[\"host_acceptance_rate\"] = full_listings[\"host_acceptance_rate\"].map(\n",
    "    lambda v: np.nan if isinstance(v, float) and np.isnan(v) else float(v.strip(\"%\"))/100\n",
    ")\n",
    "full_listings[\"price\"] = full_listings[\"price\"].map(\n",
    "    lambda v: np.nan if isinstance(v, float) and np.isnan(v) else float(v.strip(\"$\").replace(\",\", \"\"))\n",
    ")\n",
    "full_listings[\"weekly_price\"] = full_listings[\"weekly_price\"].map(\n",
    "    lambda v: np.nan if isinstance(v, float) and np.isnan(v) else float(v.strip(\"$\").replace(\",\", \"\"))\n",
    ")\n",
    "full_listings[\"monthly_price\"] = full_listings[\"monthly_price\"].map(\n",
    "    lambda v: np.nan if isinstance(v, float) and np.isnan(v) else float(v.strip(\"$\").replace(\",\", \"\"))\n",
    ")\n",
    "full_listings[\"cleaning_fee\"] = full_listings[\"cleaning_fee\"].map(\n",
    "    lambda v: np.nan if isinstance(v, float) and np.isnan(v) else float(v.strip(\"$\").replace(\",\", \"\"))\n",
    ")\n",
    "\n",
    "def clean_calendar_updated(v):\n",
    "    if isinstance(v, float) and np.isnan(v):\n",
    "        return np.nan\n",
    "    elif v == \"never\":\n",
    "        return 999\n",
    "    elif \"months\" in v:\n",
    "        return int(v.replace(\" months ago\", \"\"))*4\n",
    "    elif \"weeks\" in v:\n",
    "        return int(v.replace(\" weeks ago\", \"\"))\n",
    "\n",
    "full_listings[\"calendar_updated\"] = full_listings[\"calendar_updated\"].map(clean_calendar_updated)\n",
    "\n",
    "\n",
    "# bool\n",
    "full_listings[\"host_is_superhost\"] = full_listings[\"host_is_superhost\"].map({\n",
    "    \"t\": True,\n",
    "    \"f\": False\n",
    "})\n",
    "full_listings[\"host_has_profile_pic\"] = full_listings[\"host_has_profile_pic\"].map({\n",
    "    \"t\": True,\n",
    "    \"f\": False\n",
    "})\n",
    "full_listings[\"host_identity_verified\"] = full_listings[\"host_identity_verified\"].map({\n",
    "    \"t\": True,\n",
    "    \"f\": False\n",
    "})\n",
    "full_listings[\"is_location_exact\"] = full_listings[\"is_location_exact\"].map({\n",
    "    \"t\": True,\n",
    "    \"f\": False\n",
    "})"
   ]
  },
  {
   "cell_type": "markdown",
   "metadata": {},
   "source": [
    "#### Missing values"
   ]
  },
  {
   "cell_type": "code",
   "execution_count": 8,
   "metadata": {
    "ExecuteTime": {
     "end_time": "2020-09-21T07:31:45.054312Z",
     "start_time": "2020-09-21T07:31:44.896062Z"
    }
   },
   "outputs": [
    {
     "name": "stdout",
     "output_type": "stream",
     "text": [
      "<class 'pandas.core.frame.DataFrame'>\n",
      "RangeIndex: 48588 entries, 0 to 48587\n",
      "Data columns (total 46 columns):\n",
      "id                              48588 non-null int64\n",
      "name                            48588 non-null object\n",
      "summary                         48588 non-null object\n",
      "description                     48588 non-null object\n",
      "host_id                         48588 non-null int64\n",
      "host_since                      48576 non-null datetime64[ns]\n",
      "host_location                   48436 non-null object\n",
      "host_response_time              21683 non-null category\n",
      "host_response_rate              21683 non-null object\n",
      "host_acceptance_rate            32771 non-null float64\n",
      "host_is_superhost               48576 non-null object\n",
      "host_listings_count             48576 non-null float64\n",
      "host_has_profile_pic            48576 non-null object\n",
      "host_identity_verified          48576 non-null object\n",
      "neighbourhood_cleansed          48588 non-null object\n",
      "neighbourhood_group_cleansed    48588 non-null object\n",
      "latitude                        48588 non-null float64\n",
      "longitude                       48588 non-null float64\n",
      "is_location_exact               48588 non-null bool\n",
      "property_type                   48588 non-null object\n",
      "room_type                       48588 non-null object\n",
      "accommodates                    48588 non-null int64\n",
      "bedrooms                        48439 non-null float64\n",
      "price                           48588 non-null float64\n",
      "weekly_price                    5179 non-null float64\n",
      "monthly_price                   4458 non-null float64\n",
      "cleaning_fee                    37703 non-null float64\n",
      "minimum_nights                  48588 non-null int64\n",
      "maximum_nights                  48588 non-null int64\n",
      "calendar_updated                48588 non-null int64\n",
      "availability_30                 48588 non-null int64\n",
      "availability_60                 48588 non-null int64\n",
      "availability_90                 48588 non-null int64\n",
      "availability_365                48588 non-null int64\n",
      "number_of_reviews               48588 non-null int64\n",
      "number_of_reviews_ltm           48588 non-null int64\n",
      "first_review                    37230 non-null datetime64[ns]\n",
      "last_review                     37230 non-null datetime64[ns]\n",
      "review_scores_rating            36268 non-null float64\n",
      "review_scores_accuracy          36233 non-null float64\n",
      "review_scores_cleanliness       36247 non-null float64\n",
      "review_scores_checkin           36219 non-null float64\n",
      "review_scores_communication     36238 non-null float64\n",
      "review_scores_location          36215 non-null float64\n",
      "review_scores_value             36216 non-null float64\n",
      "reviews_per_month               37230 non-null float64\n",
      "dtypes: bool(1), category(1), datetime64[ns](3), float64(17), int64(12), object(12)\n",
      "memory usage: 16.4+ MB\n"
     ]
    }
   ],
   "source": [
    "full_listings.info()"
   ]
  },
  {
   "cell_type": "code",
   "execution_count": 9,
   "metadata": {
    "ExecuteTime": {
     "end_time": "2020-09-21T07:31:54.752148Z",
     "start_time": "2020-09-21T07:31:51.989230Z"
    }
   },
   "outputs": [
    {
     "data": {
      "image/png": "[encoded data removed]",
      "text/plain": [
       "<Figure size 1440x720 with 1 Axes>"
      ]
     },
     "metadata": {
      "needs_background": "light"
     },
     "output_type": "display_data"
    }
   ],
   "source": [
    "fig, ax = plt.subplots(figsize=(20, 10))\n",
    "ax = sns.heatmap(full_listings.isnull(), cbar=False, ax=ax, cmap=\"Blues_r\")\n",
    "ax.get_yaxis().set_visible(False)"
   ]
  },
  {
   "cell_type": "code",
   "execution_count": 10,
   "metadata": {
    "ExecuteTime": {
     "end_time": "2020-09-21T07:31:58.740677Z",
     "start_time": "2020-09-21T07:31:58.736625Z"
    }
   },
   "outputs": [
    {
     "data": {
      "text/plain": [
       "11358"
      ]
     },
     "execution_count": 10,
     "metadata": {},
     "output_type": "execute_result"
    }
   ],
   "source": [
    "(full_listings[\"number_of_reviews\"] == 0).sum()"
   ]
  },
  {
   "cell_type": "markdown",
   "metadata": {},
   "source": [
    "There are 11358 listings without reviews. These are not of any interest for our analysis. We decide to remove them."
   ]
  },
  {
   "cell_type": "code",
   "execution_count": 11,
   "metadata": {
    "ExecuteTime": {
     "end_time": "2020-09-21T07:32:11.139012Z",
     "start_time": "2020-09-21T07:32:11.093633Z"
    }
   },
   "outputs": [],
   "source": [
    "full_listings = full_listings[full_listings[\"number_of_reviews\"] != 0]"
   ]
  },
  {
   "cell_type": "code",
   "execution_count": 12,
   "metadata": {
    "ExecuteTime": {
     "end_time": "2020-09-21T07:32:19.638973Z",
     "start_time": "2020-09-21T07:32:16.776942Z"
    }
   },
   "outputs": [
    {
     "data": {
      "image/png": "[encoded data removed]",
      "text/plain": [
       "<Figure size 1440x720 with 1 Axes>"
      ]
     },
     "metadata": {
      "needs_background": "light"
     },
     "output_type": "display_data"
    }
   ],
   "source": [
    "fig, ax = plt.subplots(figsize=(20, 10))\n",
    "ax = sns.heatmap(full_listings.isnull(), cbar=False, ax=ax, cmap=\"Blues_r\")\n",
    "ax.get_yaxis().set_visible(False)"
   ]
  },
  {
   "cell_type": "markdown",
   "metadata": {},
   "source": [
    "#### Price outliers"
   ]
  },
  {
   "cell_type": "code",
   "execution_count": 13,
   "metadata": {
    "ExecuteTime": {
     "end_time": "2020-09-21T07:32:33.137561Z",
     "start_time": "2020-09-21T07:32:33.004465Z"
    }
   },
   "outputs": [
    {
     "data": {
      "text/plain": [
       "<AxesSubplot:>"
      ]
     },
     "execution_count": 13,
     "metadata": {},
     "output_type": "execute_result"
    },
    {
     "data": {
      "image/png": "[encoded data removed]",
      "text/plain": [
       "<Figure size 432x288 with 1 Axes>"
      ]
     },
     "metadata": {
      "needs_background": "light"
     },
     "output_type": "display_data"
    }
   ],
   "source": [
    "full_listings[\"price\"].plot.box()"
   ]
  },
  {
   "cell_type": "code",
   "execution_count": 14,
   "metadata": {
    "ExecuteTime": {
     "end_time": "2020-09-21T07:32:39.674235Z",
     "start_time": "2020-09-21T07:32:39.666456Z"
    }
   },
   "outputs": [
    {
     "data": {
      "text/plain": [
       "82"
      ]
     },
     "execution_count": 14,
     "metadata": {},
     "output_type": "execute_result"
    }
   ],
   "source": [
    "((full_listings[\"price\"] > 2000) | (full_listings[\"price\"] < 10)).sum()"
   ]
  },
  {
   "cell_type": "code",
   "execution_count": 15,
   "metadata": {
    "ExecuteTime": {
     "end_time": "2020-09-21T07:32:44.687319Z",
     "start_time": "2020-09-21T07:32:44.667539Z"
    }
   },
   "outputs": [],
   "source": [
    "full_listings = full_listings[((full_listings[\"price\"] <= 2000) | (full_listings[\"price\"] >= 10))]"
   ]
  },
  {
   "cell_type": "markdown",
   "metadata": {},
   "source": [
    "##### Cleaning fee"
   ]
  },
  {
   "cell_type": "code",
   "execution_count": 16,
   "metadata": {
    "ExecuteTime": {
     "end_time": "2020-09-21T07:33:01.710737Z",
     "start_time": "2020-09-21T07:33:01.600967Z"
    }
   },
   "outputs": [
    {
     "data": {
      "text/plain": [
       "<AxesSubplot:>"
      ]
     },
     "execution_count": 16,
     "metadata": {},
     "output_type": "execute_result"
    },
    {
     "data": {
      "image/png": "[encoded data removed]",
      "text/plain": [
       "<Figure size 432x288 with 1 Axes>"
      ]
     },
     "metadata": {
      "needs_background": "light"
     },
     "output_type": "display_data"
    }
   ],
   "source": [
    "full_listings[\"cleaning_fee\"].plot.box()"
   ]
  },
  {
   "cell_type": "markdown",
   "metadata": {},
   "source": [
    "#### Maximum nights next 12M"
   ]
  },
  {
   "cell_type": "code",
   "execution_count": 17,
   "metadata": {
    "ExecuteTime": {
     "end_time": "2020-09-21T07:33:18.878320Z",
     "start_time": "2020-09-21T07:33:18.771714Z"
    }
   },
   "outputs": [
    {
     "data": {
      "text/plain": [
       "<AxesSubplot:>"
      ]
     },
     "execution_count": 17,
     "metadata": {},
     "output_type": "execute_result"
    },
    {
     "data": {
      "image/png": "[encoded data removed]",
      "text/plain": [
       "<Figure size 432x288 with 1 Axes>"
      ]
     },
     "metadata": {
      "needs_background": "light"
     },
     "output_type": "display_data"
    }
   ],
   "source": [
    "full_listings[\"maximum_nights\"].plot.box()"
   ]
  },
  {
   "cell_type": "code",
   "execution_count": 18,
   "metadata": {
    "ExecuteTime": {
     "end_time": "2020-09-21T07:33:26.707040Z",
     "start_time": "2020-09-21T07:33:26.702006Z"
    }
   },
   "outputs": [
    {
     "data": {
      "text/plain": [
       "(24, 17131)"
      ]
     },
     "execution_count": 18,
     "metadata": {},
     "output_type": "execute_result"
    }
   ],
   "source": [
    "(full_listings[\"maximum_nights\"] > 1125).sum(), (full_listings[\"maximum_nights\"] > 1124).sum()"
   ]
  },
  {
   "cell_type": "code",
   "execution_count": 19,
   "metadata": {
    "ExecuteTime": {
     "end_time": "2020-09-21T07:33:33.051227Z",
     "start_time": "2020-09-21T07:33:33.034826Z"
    }
   },
   "outputs": [],
   "source": [
    "full_listings = full_listings[full_listings[\"maximum_nights\"] <= 1125]"
   ]
  },
  {
   "cell_type": "markdown",
   "metadata": {
    "ExecuteTime": {
     "end_time": "2020-09-21T07:33:40.380635Z",
     "start_time": "2020-09-21T07:33:40.378667Z"
    }
   },
   "source": [
    "### New features"
   ]
  },
  {
   "cell_type": "markdown",
   "metadata": {},
   "source": [
    "#### Host Tenure"
   ]
  },
  {
   "cell_type": "code",
   "execution_count": 21,
   "metadata": {
    "ExecuteTime": {
     "end_time": "2020-09-21T07:34:01.538776Z",
     "start_time": "2020-09-21T07:34:01.329164Z"
    }
   },
   "outputs": [],
   "source": [
    "full_listings[\"host_tenure\"] = (full_listings[\"host_since\"].dt.date - dt.date.today()) * -1"
   ]
  },
  {
   "cell_type": "code",
   "execution_count": 22,
   "metadata": {
    "ExecuteTime": {
     "end_time": "2020-09-21T07:34:08.791397Z",
     "start_time": "2020-09-21T07:34:08.588494Z"
    }
   },
   "outputs": [
    {
     "data": {
      "image/png": "[encoded data removed]",
      "text/plain": [
       "<Figure size 1080x360 with 1 Axes>"
      ]
     },
     "metadata": {
      "needs_background": "light"
     },
     "output_type": "display_data"
    }
   ],
   "source": [
    "fig, ax = plt.subplots(figsize=(15, 5))\n",
    "(full_listings[\"host_tenure\"].dt.days / 365).plot.hist(bins=30, ax=ax)\n",
    "_ = ax.set_xlabel(\"Host tenure in years\")"
   ]
  },
  {
   "cell_type": "markdown",
   "metadata": {},
   "source": [
    "#### Listing tenure"
   ]
  },
  {
   "cell_type": "code",
   "execution_count": 23,
   "metadata": {
    "ExecuteTime": {
     "end_time": "2020-09-21T07:34:32.433177Z",
     "start_time": "2020-09-21T07:34:32.285800Z"
    }
   },
   "outputs": [],
   "source": [
    "full_listings[\"listing_tenure\"] = (full_listings[\"first_review\"].dt.date - dt.date.today()) * -1"
   ]
  },
  {
   "cell_type": "code",
   "execution_count": 24,
   "metadata": {
    "ExecuteTime": {
     "end_time": "2020-09-21T07:34:41.501593Z",
     "start_time": "2020-09-21T07:34:41.295501Z"
    }
   },
   "outputs": [
    {
     "data": {
      "image/png": "[encoded data removed]",
      "text/plain": [
       "<Figure size 1080x360 with 1 Axes>"
      ]
     },
     "metadata": {
      "needs_background": "light"
     },
     "output_type": "display_data"
    }
   ],
   "source": [
    "fig, ax = plt.subplots(figsize=(15, 5))\n",
    "(full_listings[\"listing_tenure\"].dt.days / 365).plot.hist(bins=30, ax=ax)\n",
    "_ = ax.set_xlabel(\"Listing tenure in years\")"
   ]
  },
  {
   "cell_type": "markdown",
   "metadata": {},
   "source": [
    "#### Listing recency"
   ]
  },
  {
   "cell_type": "code",
   "execution_count": 25,
   "metadata": {
    "ExecuteTime": {
     "end_time": "2020-09-21T07:35:06.375537Z",
     "start_time": "2020-09-21T07:35:06.230381Z"
    }
   },
   "outputs": [],
   "source": [
    "full_listings[\"listing_recency\"] = (full_listings[\"last_review\"].dt.date - dt.date.today()) * -1"
   ]
  },
  {
   "cell_type": "code",
   "execution_count": 26,
   "metadata": {
    "ExecuteTime": {
     "end_time": "2020-09-21T07:35:11.995847Z",
     "start_time": "2020-09-21T07:35:11.804812Z"
    }
   },
   "outputs": [
    {
     "data": {
      "image/png": "[encoded data removed]",
      "text/plain": [
       "<Figure size 1080x360 with 1 Axes>"
      ]
     },
     "metadata": {
      "needs_background": "light"
     },
     "output_type": "display_data"
    }
   ],
   "source": [
    "fig, ax = plt.subplots(figsize=(15, 5))\n",
    "(full_listings[\"listing_recency\"].dt.days / 365 * 12).plot.hist(bins=30, ax=ax)\n",
    "_ = ax.set_xlabel(\"Listing recency in months\")"
   ]
  },
  {
   "cell_type": "markdown",
   "metadata": {},
   "source": [
    "#### Full property"
   ]
  },
  {
   "cell_type": "code",
   "execution_count": 27,
   "metadata": {
    "ExecuteTime": {
     "end_time": "2020-09-21T07:35:27.851311Z",
     "start_time": "2020-09-21T07:35:27.846279Z"
    }
   },
   "outputs": [],
   "source": [
    "full_listings[\"full_property\"] = full_listings[\"room_type\"].isin([\"Entire home/apt\"])"
   ]
  },
  {
   "cell_type": "markdown",
   "metadata": {},
   "source": [
    "#### Fraudster"
   ]
  },
  {
   "cell_type": "markdown",
   "metadata": {},
   "source": [
    "By law, it is illegal to rent an appartment through AirBnB without being in the property. We can identify the fraudster by looking at the number of people who rent a full appartment or home, very frequently with high availability."
   ]
  },
  {
   "cell_type": "code",
   "execution_count": 28,
   "metadata": {
    "ExecuteTime": {
     "end_time": "2020-09-21T07:35:59.054744Z",
     "start_time": "2020-09-21T07:35:59.040558Z"
    }
   },
   "outputs": [
    {
     "name": "stdout",
     "output_type": "stream",
     "text": [
      "high_availability_filter 19442\n",
      "high_frequency_filter 2434\n",
      "recency_filter 6099\n",
      "full_property_filter 19582\n"
     ]
    },
    {
     "data": {
      "text/plain": [
       "671"
      ]
     },
     "execution_count": 28,
     "metadata": {},
     "output_type": "execute_result"
    }
   ],
   "source": [
    "high_availability_filter = full_listings[\"availability_365\"] > 60\n",
    "print(\"high_availability_filter\", (high_availability_filter).sum())\n",
    "\n",
    "# we assume that 50% of the people leave a comment\n",
    "high_frequency_filter = full_listings[\"number_of_reviews_ltm\"]*2 > 60\n",
    "print(\"high_frequency_filter\", (high_frequency_filter).sum())\n",
    "\n",
    "# listing who has rent in the past 6 months\n",
    "recency_filter = full_listings[\"listing_recency\"].dt.days / 365 * 12 <= 6\n",
    "print(\"recency_filter\", (recency_filter).sum())\n",
    "\n",
    "full_property_filter = full_listings[\"full_property\"] == True\n",
    "print(\"full_property_filter\", (full_property_filter).sum())\n",
    "\n",
    "full_listings[\"fraudster\"] = (\n",
    "    high_availability_filter & high_frequency_filter & recency_filter & full_property_filter\n",
    ")\n",
    "full_listings[\"fraudster\"].sum()"
   ]
  },
  {
   "cell_type": "markdown",
   "metadata": {},
   "source": [
    "#### Occupancy"
   ]
  },
  {
   "cell_type": "code",
   "execution_count": 29,
   "metadata": {
    "ExecuteTime": {
     "end_time": "2020-09-21T07:36:12.580752Z",
     "start_time": "2020-09-21T07:36:12.571948Z"
    }
   },
   "outputs": [],
   "source": [
    "full_listings[\"occupancy_rate\"] = ((\n",
    "    full_listings[\"reviews_per_month\"] * 12 / 0.5 * \\\n",
    "    full_listings[\"minimum_nights\"].clip(lower=6.4)\n",
    ").clip(upper=365*0.7) / 365)"
   ]
  },
  {
   "cell_type": "code",
   "execution_count": 30,
   "metadata": {
    "ExecuteTime": {
     "end_time": "2020-09-21T07:36:18.453679Z",
     "start_time": "2020-09-21T07:36:18.298048Z"
    }
   },
   "outputs": [
    {
     "data": {
      "text/plain": [
       "<AxesSubplot:ylabel='Frequency'>"
      ]
     },
     "execution_count": 30,
     "metadata": {},
     "output_type": "execute_result"
    },
    {
     "data": {
      "image/png": "[encoded data removed]",
      "text/plain": [
       "<Figure size 432x288 with 1 Axes>"
      ]
     },
     "metadata": {
      "needs_background": "light"
     },
     "output_type": "display_data"
    }
   ],
   "source": [
    "full_listings[\"occupancy_rate\"].plot(kind=\"hist\")"
   ]
  },
  {
   "cell_type": "markdown",
   "metadata": {},
   "source": [
    "#### Income"
   ]
  },
  {
   "cell_type": "code",
   "execution_count": 31,
   "metadata": {
    "ExecuteTime": {
     "end_time": "2020-09-21T07:36:33.618314Z",
     "start_time": "2020-09-21T07:36:33.614987Z"
    }
   },
   "outputs": [],
   "source": [
    "full_listings[\"income_earned\"] = (\n",
    "    full_listings[\"occupancy_rate\"] * full_listings[\"price\"]\n",
    ")"
   ]
  },
  {
   "cell_type": "code",
   "execution_count": 32,
   "metadata": {
    "ExecuteTime": {
     "end_time": "2020-09-21T07:36:39.536520Z",
     "start_time": "2020-09-21T07:36:39.378577Z"
    }
   },
   "outputs": [],
   "source": [
    "full_listings.to_pickle(\"listings_clean.pkl\")"
   ]
  },
  {
   "cell_type": "markdown",
   "metadata": {},
   "source": [
    "## Neighbourhood"
   ]
  },
  {
   "cell_type": "code",
   "execution_count": 33,
   "metadata": {
    "ExecuteTime": {
     "end_time": "2020-09-21T07:36:58.602772Z",
     "start_time": "2020-09-21T07:36:58.592837Z"
    }
   },
   "outputs": [],
   "source": [
    "neighbourhoods = pd.read_csv(\n",
    "    \"data/neighbourhoods.csv\"\n",
    ")"
   ]
  },
  {
   "cell_type": "code",
   "execution_count": 34,
   "metadata": {
    "ExecuteTime": {
     "end_time": "2020-09-21T07:37:05.161572Z",
     "start_time": "2020-09-21T07:37:05.153782Z"
    }
   },
   "outputs": [
    {
     "data": {
      "text/html": [
       "<div>\n",
       "<style scoped>\n",
       "    .dataframe tbody tr th:only-of-type {\n",
       "        vertical-align: middle;\n",
       "    }\n",
       "\n",
       "    .dataframe tbody tr th {\n",
       "        vertical-align: top;\n",
       "    }\n",
       "\n",
       "    .dataframe thead th {\n",
       "        text-align: right;\n",
       "    }\n",
       "</style>\n",
       "<table border=\"1\" class=\"dataframe\">\n",
       "  <thead>\n",
       "    <tr style=\"text-align: right;\">\n",
       "      <th></th>\n",
       "      <th>neighbourhood_group</th>\n",
       "      <th>neighbourhood</th>\n",
       "    </tr>\n",
       "  </thead>\n",
       "  <tbody>\n",
       "    <tr>\n",
       "      <th>0</th>\n",
       "      <td>Bronx</td>\n",
       "      <td>Allerton</td>\n",
       "    </tr>\n",
       "    <tr>\n",
       "      <th>1</th>\n",
       "      <td>Bronx</td>\n",
       "      <td>Baychester</td>\n",
       "    </tr>\n",
       "    <tr>\n",
       "      <th>2</th>\n",
       "      <td>Bronx</td>\n",
       "      <td>Belmont</td>\n",
       "    </tr>\n",
       "    <tr>\n",
       "      <th>3</th>\n",
       "      <td>Bronx</td>\n",
       "      <td>Bronxdale</td>\n",
       "    </tr>\n",
       "    <tr>\n",
       "      <th>4</th>\n",
       "      <td>Bronx</td>\n",
       "      <td>Castle Hill</td>\n",
       "    </tr>\n",
       "  </tbody>\n",
       "</table>\n",
       "</div>"
      ],
      "text/plain": [
       "  neighbourhood_group neighbourhood\n",
       "0               Bronx      Allerton\n",
       "1               Bronx    Baychester\n",
       "2               Bronx       Belmont\n",
       "3               Bronx     Bronxdale\n",
       "4               Bronx   Castle Hill"
      ]
     },
     "execution_count": 34,
     "metadata": {},
     "output_type": "execute_result"
    }
   ],
   "source": [
    "neighbourhoods.head()"
   ]
  },
  {
   "cell_type": "code",
   "execution_count": 35,
   "metadata": {
    "ExecuteTime": {
     "end_time": "2020-09-21T07:37:10.688251Z",
     "start_time": "2020-09-21T07:37:10.682646Z"
    }
   },
   "outputs": [
    {
     "data": {
      "text/plain": [
       "array(['Bronx', 'Brooklyn', 'Manhattan', 'Queens', 'Staten Island'],\n",
       "      dtype=object)"
      ]
     },
     "execution_count": 35,
     "metadata": {},
     "output_type": "execute_result"
    }
   ],
   "source": [
    "neighbourhoods[\"neighbourhood_group\"].unique()"
   ]
  },
  {
   "cell_type": "markdown",
   "metadata": {},
   "source": [
    "## Calendar"
   ]
  },
  {
   "cell_type": "code",
   "execution_count": 36,
   "metadata": {
    "ExecuteTime": {
     "end_time": "2020-09-21T07:37:43.938872Z",
     "start_time": "2020-09-21T07:37:21.834852Z"
    }
   },
   "outputs": [],
   "source": [
    "calendar = pd.read_csv(\n",
    "    \"data/calendar/calendar_0720.csv\",\n",
    "    parse_dates=[\"date\"]\n",
    ")"
   ]
  },
  {
   "cell_type": "code",
   "execution_count": 37,
   "metadata": {
    "ExecuteTime": {
     "end_time": "2020-09-21T07:38:02.467261Z",
     "start_time": "2020-09-21T07:37:43.950415Z"
    }
   },
   "outputs": [],
   "source": [
    "calendar[\"price\"] = calendar[\"price\"].map(\n",
    "    lambda v: np.nan if isinstance(v, float) and np.isnan(v) else float(v.strip(\"$\").replace(\",\", \"\"))\n",
    ")\n",
    "calendar[\"adjusted_price\"] = calendar[\"adjusted_price\"].map(\n",
    "    lambda v: np.nan if isinstance(v, float) and np.isnan(v) else float(v.strip(\"$\").replace(\",\", \"\"))\n",
    ")\n",
    "calendar[\"available\"] = calendar[\"available\"].map({\n",
    "    \"t\": True,\n",
    "    \"f\": False\n",
    "})"
   ]
  },
  {
   "cell_type": "code",
   "execution_count": 38,
   "metadata": {
    "ExecuteTime": {
     "end_time": "2020-09-21T07:38:02.549774Z",
     "start_time": "2020-09-21T07:38:02.470691Z"
    }
   },
   "outputs": [
    {
     "data": {
      "text/html": [
       "<div>\n",
       "<style scoped>\n",
       "    .dataframe tbody tr th:only-of-type {\n",
       "        vertical-align: middle;\n",
       "    }\n",
       "\n",
       "    .dataframe tbody tr th {\n",
       "        vertical-align: top;\n",
       "    }\n",
       "\n",
       "    .dataframe thead th {\n",
       "        text-align: right;\n",
       "    }\n",
       "</style>\n",
       "<table border=\"1\" class=\"dataframe\">\n",
       "  <thead>\n",
       "    <tr style=\"text-align: right;\">\n",
       "      <th></th>\n",
       "      <th>listing_id</th>\n",
       "      <th>date</th>\n",
       "      <th>available</th>\n",
       "      <th>price</th>\n",
       "      <th>adjusted_price</th>\n",
       "      <th>minimum_nights</th>\n",
       "      <th>maximum_nights</th>\n",
       "    </tr>\n",
       "  </thead>\n",
       "  <tbody>\n",
       "    <tr>\n",
       "      <th>0</th>\n",
       "      <td>2060</td>\n",
       "      <td>2020-07-08</td>\n",
       "      <td>True</td>\n",
       "      <td>100.0</td>\n",
       "      <td>100.0</td>\n",
       "      <td>1.0</td>\n",
       "      <td>730.0</td>\n",
       "    </tr>\n",
       "    <tr>\n",
       "      <th>1</th>\n",
       "      <td>53469</td>\n",
       "      <td>2020-07-08</td>\n",
       "      <td>True</td>\n",
       "      <td>98.0</td>\n",
       "      <td>98.0</td>\n",
       "      <td>7.0</td>\n",
       "      <td>365.0</td>\n",
       "    </tr>\n",
       "    <tr>\n",
       "      <th>2</th>\n",
       "      <td>53469</td>\n",
       "      <td>2020-07-09</td>\n",
       "      <td>True</td>\n",
       "      <td>98.0</td>\n",
       "      <td>98.0</td>\n",
       "      <td>7.0</td>\n",
       "      <td>365.0</td>\n",
       "    </tr>\n",
       "    <tr>\n",
       "      <th>3</th>\n",
       "      <td>53469</td>\n",
       "      <td>2020-07-10</td>\n",
       "      <td>True</td>\n",
       "      <td>106.0</td>\n",
       "      <td>106.0</td>\n",
       "      <td>7.0</td>\n",
       "      <td>365.0</td>\n",
       "    </tr>\n",
       "    <tr>\n",
       "      <th>4</th>\n",
       "      <td>53469</td>\n",
       "      <td>2020-07-11</td>\n",
       "      <td>True</td>\n",
       "      <td>106.0</td>\n",
       "      <td>106.0</td>\n",
       "      <td>7.0</td>\n",
       "      <td>365.0</td>\n",
       "    </tr>\n",
       "  </tbody>\n",
       "</table>\n",
       "</div>"
      ],
      "text/plain": [
       "   listing_id       date  available  price  adjusted_price  minimum_nights  \\\n",
       "0        2060 2020-07-08       True  100.0           100.0             1.0   \n",
       "1       53469 2020-07-08       True   98.0            98.0             7.0   \n",
       "2       53469 2020-07-09       True   98.0            98.0             7.0   \n",
       "3       53469 2020-07-10       True  106.0           106.0             7.0   \n",
       "4       53469 2020-07-11       True  106.0           106.0             7.0   \n",
       "\n",
       "   maximum_nights  \n",
       "0           730.0  \n",
       "1           365.0  \n",
       "2           365.0  \n",
       "3           365.0  \n",
       "4           365.0  "
      ]
     },
     "execution_count": 38,
     "metadata": {},
     "output_type": "execute_result"
    }
   ],
   "source": [
    "calendar.head()"
   ]
  },
  {
   "cell_type": "markdown",
   "metadata": {},
   "source": [
    "### Price Adjusted"
   ]
  },
  {
   "cell_type": "code",
   "execution_count": 39,
   "metadata": {
    "ExecuteTime": {
     "end_time": "2020-09-21T07:38:02.832383Z",
     "start_time": "2020-09-21T07:38:02.551203Z"
    }
   },
   "outputs": [],
   "source": [
    "calendar[\"percentage_change\"] = (calendar[\"adjusted_price\"] - calendar[\"price\"]) / calendar[\"price\"]"
   ]
  },
  {
   "cell_type": "markdown",
   "metadata": {},
   "source": [
    "0.8% of the records have an adjusted price"
   ]
  },
  {
   "cell_type": "code",
   "execution_count": 40,
   "metadata": {
    "ExecuteTime": {
     "end_time": "2020-09-21T07:38:15.057104Z",
     "start_time": "2020-09-21T07:38:13.432830Z"
    }
   },
   "outputs": [
    {
     "data": {
      "text/plain": [
       "0.00838478965087445"
      ]
     },
     "execution_count": 40,
     "metadata": {},
     "output_type": "execute_result"
    }
   ],
   "source": [
    "price_adjusted = calendar[calendar[\"percentage_change\"] != 0.]\n",
    "price_adjusted.shape[0] / calendar.shape[0]"
   ]
  },
  {
   "cell_type": "markdown",
   "metadata": {},
   "source": [
    "1.4% of the listings adjust their price"
   ]
  },
  {
   "cell_type": "code",
   "execution_count": 41,
   "metadata": {
    "ExecuteTime": {
     "end_time": "2020-09-21T07:38:26.565181Z",
     "start_time": "2020-09-21T07:38:26.314288Z"
    }
   },
   "outputs": [
    {
     "data": {
      "text/plain": [
       "0.014201037293158804"
      ]
     },
     "execution_count": 41,
     "metadata": {},
     "output_type": "execute_result"
    }
   ],
   "source": [
    "price_adjusted[\"listing_id\"].nunique() / calendar[\"listing_id\"].nunique()"
   ]
  },
  {
   "cell_type": "markdown",
   "metadata": {},
   "source": [
    "People discount their price all year long excet during the busy turistic season"
   ]
  },
  {
   "cell_type": "code",
   "execution_count": 42,
   "metadata": {
    "ExecuteTime": {
     "end_time": "2020-09-21T07:38:42.183346Z",
     "start_time": "2020-09-21T07:38:41.886235Z"
    }
   },
   "outputs": [
    {
     "data": {
      "text/plain": [
       "<AxesSubplot:xlabel='date'>"
      ]
     },
     "execution_count": 42,
     "metadata": {},
     "output_type": "execute_result"
    },
    {
     "data": {
      "image/png": "[encoded data removed]",
      "text/plain": [
       "<Figure size 432x288 with 1 Axes>"
      ]
     },
     "metadata": {
      "needs_background": "light"
     },
     "output_type": "display_data"
    }
   ],
   "source": [
    "price_adjusted.groupby(price_adjusted[\"date\"].dt.month)[\"percentage_change\"].count().plot()"
   ]
  },
  {
   "cell_type": "code",
   "execution_count": 43,
   "metadata": {
    "ExecuteTime": {
     "end_time": "2020-09-21T07:38:47.757776Z",
     "start_time": "2020-09-21T07:38:47.477808Z"
    }
   },
   "outputs": [
    {
     "data": {
      "text/plain": [
       "<AxesSubplot:xlabel='date'>"
      ]
     },
     "execution_count": 43,
     "metadata": {},
     "output_type": "execute_result"
    },
    {
     "data": {
      "image/png": "[encoded data removed]",
      "text/plain": [
       "<Figure size 432x288 with 1 Axes>"
      ]
     },
     "metadata": {
      "needs_background": "light"
     },
     "output_type": "display_data"
    }
   ],
   "source": [
    "price_adjusted.set_index(\"date\")[[\"percentage_change\"]].resample(\"m\").mean().plot()"
   ]
  },
  {
   "cell_type": "markdown",
   "metadata": {},
   "source": [
    "## Reviews"
   ]
  },
  {
   "cell_type": "code",
   "execution_count": 44,
   "metadata": {
    "ExecuteTime": {
     "end_time": "2020-09-21T07:39:05.157019Z",
     "start_time": "2020-09-21T07:39:05.155081Z"
    }
   },
   "outputs": [],
   "source": [
    "# TAKES LONG, # UNCOMMENT TO RE-RUN\n",
    "# reviews = pd.read_csv(\n",
    "#     \"data/reviews.csv\"\n",
    "# )\n",
    "\n",
    "# def adjectives(review):\n",
    "#     if isinstance(review, float) and np.isnan(review):\n",
    "#         return np.nan\n",
    "#     tok_pos = nltk.pos_tag(nltk.word_tokenize(review))\n",
    "#     return [i[0] for i in tok_pos if i[1] in (\"JJ\", \"JJR\", \"JJS\")]\n",
    "\n",
    "# reviews[\"adjectives\"] = reviews[\"comments\"].map(adjectives)\n",
    "# reviews.to_pickle(\"reviews_transformed.pkl\")"
   ]
  },
  {
   "cell_type": "code",
   "execution_count": 45,
   "metadata": {
    "ExecuteTime": {
     "end_time": "2020-09-21T07:39:16.414814Z",
     "start_time": "2020-09-21T07:39:11.524092Z"
    }
   },
   "outputs": [],
   "source": [
    "reviews = pd.read_pickle(\"reviews_transformed.pkl\")"
   ]
  }
 ],
 "metadata": {
  "hide_input": false,
  "kernelspec": {
   "display_name": "Python 3",
   "language": "python",
   "name": "python3"
  },
  "language_info": {
   "codemirror_mode": {
    "name": "ipython",
    "version": 3
   },
   "file_extension": ".py",
   "mimetype": "text/x-python",
   "name": "python",
   "nbconvert_exporter": "python",
   "pygments_lexer": "ipython3",
   "version": "3.8.3"
  },
  "latex_envs": {
   "LaTeX_envs_menu_present": true,
   "autoclose": false,
   "autocomplete": true,
   "bibliofile": "biblio.bib",
   "cite_by": "apalike",
   "current_citInitial": 1,
   "eqLabelWithNumbers": true,
   "eqNumInitial": 1,
   "hotkeys": {
    "equation": "Ctrl-E",
    "itemize": "Ctrl-I"
   },
   "labels_anchors": false,
   "latex_user_defs": false,
   "report_style_numbering": false,
   "user_envs_cfg": false
  },
  "toc": {
   "base_numbering": 1,
   "nav_menu": {},
   "number_sections": true,
   "sideBar": true,
   "skip_h1_title": true,
   "title_cell": "Table of Contents",
   "title_sidebar": "Contents",
   "toc_cell": true,
   "toc_position": {},
   "toc_section_display": true,
   "toc_window_display": true
  }
 },
 "nbformat": 4,
 "nbformat_minor": 4
}
